{
 "cells": [
  {
   "cell_type": "markdown",
   "id": "6bb5d838-d89b-4800-8223-cbc13afb0265",
   "metadata": {},
   "source": [
    "# Question 9 (e-g) "
   ]
  },
  {
   "cell_type": "markdown",
   "id": "1a33e0bc-7fd9-4249-9a46-2241a6df1ae9",
   "metadata": {},
   "source": [
    "######  Hadar Mentel 205642366 \n",
    "###### Linoy Halifa 201052198\n",
    "###### Noam Arian 311271829"
   ]
  },
  {
   "cell_type": "code",
   "execution_count": 12,
   "id": "4e0d89d0-2dde-4592-beb8-a78c83c7ae9f",
   "metadata": {},
   "outputs": [],
   "source": [
    "#(e)\n",
    "\n",
    "import numpy as np\n",
    "import pandas as pd\n",
    "from sklearn.decomposition import PCA\n",
    "from sklearn.linear_model import LinearRegression\n",
    "from sklearn.model_selection import cross_val_score, train_test_split\n",
    "from sklearn.metrics import mean_squared_error\n",
    "from sklearn.model_selection import train_test_split\n",
    "from sklearn.linear_model import LinearRegression\n",
    "from sklearn.metrics import mean_squared_error\n",
    "from sklearn.cross_decomposition import PLSRegression\n",
    "\n"
   ]
  },
  {
   "cell_type": "code",
   "execution_count": 8,
   "id": "e5fd233b-21c9-4dab-8b09-691db42aef2b",
   "metadata": {},
   "outputs": [
    {
     "name": "stdout",
     "output_type": "stream",
     "text": [
      "Training set size: 543\n",
      "Test set size: 234\n"
     ]
    }
   ],
   "source": [
    "#(a)\n",
    "\n",
    "# Import necessary libraries\n",
    "\n",
    "# Read the dataset from a CSV file (replace 'College.csv' with the actual file path)\n",
    "data = pd.read_csv('College.csv')\n",
    "\n",
    "# Remove unnecessary column (if exists)\n",
    "data = data.drop(columns=['Unnamed: 0'])\n",
    "\n",
    "# Convert the 'Private' column to numerical values (Yes=1, No=0)\n",
    "data['Private'] = data['Private'].apply(lambda x: 1 if x == 'Yes' else 0)\n",
    "\n",
    "# Split the dataset into predictors (X) and the target variable (y)\n",
    "X = data.drop(columns=['Apps'])  # All columns except 'Apps'\n",
    "y = data['Apps']  # Target variable (number of applications)\n",
    "\n",
    "# Split the data into training (70%) and testing (30%) sets\n",
    "X_train, X_test, y_train, y_test = train_test_split(X, y, test_size=0.3, random_state=42)\n",
    "\n",
    "# Print the sizes of the training and test sets\n",
    "print(\"Training set size:\", X_train.shape[0])\n",
    "print(\"Test set size:\", X_test.shape[0])\n",
    "\n"
   ]
  },
  {
   "cell_type": "code",
   "execution_count": 9,
   "id": "a4a4aa81-7a4d-43e1-a9f4-122eaabc485a",
   "metadata": {},
   "outputs": [
    {
     "name": "stdout",
     "output_type": "stream",
     "text": [
      "Test Error (Mean Squared Error): 1931803.1942\n"
     ]
    }
   ],
   "source": [
    "#(b)\n",
    "\n",
    "# Fit a linear regression model using least squares on the training data\n",
    "linear_model = LinearRegression()\n",
    "linear_model.fit(X_train, y_train)\n",
    "\n",
    "# Make predictions on the test set\n",
    "y_pred = linear_model.predict(X_test)\n",
    "\n",
    "# Calculate the test error (Mean Squared Error)\n",
    "test_error = mean_squared_error(y_test, y_pred)\n",
    "\n",
    "# Print the test error\n",
    "print(f\"Test Error (Mean Squared Error): {test_error:.4f}\")"
   ]
  },
  {
   "cell_type": "code",
   "execution_count": 10,
   "id": "367b28b5-510e-40ad-9692-c35c49ce1add",
   "metadata": {},
   "outputs": [
    {
     "name": "stdout",
     "output_type": "stream",
     "text": [
      "Optimal number of components (M): 17\n",
      "PCR Test Error (Mean Squared Error): 1931803.1942\n"
     ]
    }
   ],
   "source": [
    "#(e)\n",
    "\n",
    "# Perform PCA on the training data\n",
    "pca = PCA()\n",
    "X_train_pca = pca.fit_transform(X_train)\n",
    "X_test_pca = pca.transform(X_test)\n",
    "\n",
    "# Perform cross-validation to select the optimal number of components (M)\n",
    "mse_scores = []\n",
    "for m in range(1, X_train_pca.shape[1] + 1):\n",
    "    # Use only the first m principal components\n",
    "    X_train_reduced = X_train_pca[:, :m]\n",
    "    \n",
    "    # Fit a linear regression model on the reduced training data\n",
    "    model = LinearRegression()\n",
    "    \n",
    "    # Calculate the negative MSE using cross-validation\n",
    "    scores = cross_val_score(model, X_train_reduced, y_train, scoring='neg_mean_squared_error', cv=5)\n",
    "    \n",
    "    # Append the mean MSE for the current number of components\n",
    "    mse_scores.append(-np.mean(scores))\n",
    "\n",
    "# Find the optimal number of components (M) with the lowest MSE\n",
    "optimal_m = np.argmin(mse_scores) + 1\n",
    "print(f\"Optimal number of components (M): {optimal_m}\")\n",
    "\n",
    "# Use the optimal number of components to transform the data\n",
    "X_train_reduced = X_train_pca[:, :optimal_m]\n",
    "X_test_reduced = X_test_pca[:, :optimal_m]\n",
    "\n",
    "# Fit a linear regression model on the reduced training data\n",
    "pcr_model = LinearRegression()\n",
    "pcr_model.fit(X_train_reduced, y_train)\n",
    "\n",
    "# Make predictions on the test set\n",
    "y_pred = pcr_model.predict(X_test_reduced)\n",
    "\n",
    "# Calculate the test error (Mean Squared Error)\n",
    "pcr_test_error = mean_squared_error(y_test, y_pred)\n",
    "print(f\"PCR Test Error (Mean Squared Error): {pcr_test_error:.4f}\")"
   ]
  },
  {
   "cell_type": "code",
   "execution_count": 11,
   "id": "e9d1bbad-afa1-48d6-89d0-3b226aafe9f5",
   "metadata": {},
   "outputs": [
    {
     "name": "stdout",
     "output_type": "stream",
     "text": [
      "(777, 17)\n",
      "Index(['Private', 'Accept', 'Enroll', 'Top10perc', 'Top25perc', 'F.Undergrad',\n",
      "       'P.Undergrad', 'Outstate', 'Room.Board', 'Books', 'Personal', 'PhD',\n",
      "       'Terminal', 'S.F.Ratio', 'perc.alumni', 'Expend', 'Grad.Rate'],\n",
      "      dtype='object')\n"
     ]
    }
   ],
   "source": [
    "print(X.shape)  # Prints the number of rows and columns in X\n",
    "print(X.columns)  # Prints the names of all columns in X\n"
   ]
  },
  {
   "cell_type": "code",
   "execution_count": 13,
   "id": "f3c5f6e3-ec6c-44b1-b829-6c80d76ff662",
   "metadata": {},
   "outputs": [
    {
     "name": "stdout",
     "output_type": "stream",
     "text": [
      "Optimal number of components (M): 17\n",
      "PLS Test Error (Mean Squared Error): 1931803.1942\n"
     ]
    }
   ],
   "source": [
    "#(f)\n",
    "\n",
    "# Initialize variables to store MSE scores for each number of components\n",
    "mse_scores = []\n",
    "\n",
    "# Loop through possible values of M (number of components)\n",
    "for m in range(1, X_train.shape[1] + 1):  # Number of components ranges from 1 to number of predictors\n",
    "    # Fit PLS model with m components\n",
    "    pls_model = PLSRegression(n_components=m)\n",
    "    \n",
    "    # Perform cross-validation to calculate the negative mean squared error\n",
    "    scores = cross_val_score(pls_model, X_train, y_train, scoring='neg_mean_squared_error', cv=5)\n",
    "    \n",
    "    # Append the mean MSE for the current number of components\n",
    "    mse_scores.append(-np.mean(scores))\n",
    "\n",
    "# Select the optimal number of components (M) that minimizes the MSE\n",
    "optimal_m = np.argmin(mse_scores) + 1\n",
    "print(f\"Optimal number of components (M): {optimal_m}\")\n",
    "\n",
    "# Fit PLS model with the optimal number of components\n",
    "pls_model = PLSRegression(n_components=optimal_m)\n",
    "pls_model.fit(X_train, y_train)\n",
    "\n",
    "# Make predictions on the test set\n",
    "y_pred = pls_model.predict(X_test)\n",
    "\n",
    "# Calculate the test error (Mean Squared Error)\n",
    "pls_test_error = mean_squared_error(y_test, y_pred)\n",
    "print(f\"PLS Test Error (Mean Squared Error): {pls_test_error:.4f}\")"
   ]
  },
  {
   "cell_type": "markdown",
   "id": "0562ebfa-6883-454f-8ea7-e673fdf20e43",
   "metadata": {},
   "source": [
    "#(g)\n",
    "\n",
    "Test Error (Mean Squared Error) for Ridge Regression: 1926685.7066\n",
    "Test Error (Mean Squared Error) for Lasso Regression: 1930653.7391 , Number of non-zero coefficients: 17\n",
    "PCR Test Error (Mean Squared Error): 1931803.1942 , M=17\n",
    "PLS Test Error (Mean Squared Error): 1931803.1942 ,M=17\n",
    "Test Error (Mean Squared Error) for linear regression: 1931803.1942\n",
    "\n",
    "we can see that the best model is Ridge Regression because the MSE of test error is the smallest on this approach. "
   ]
  },
  {
   "cell_type": "markdown",
   "id": "c31daa25-16bf-40e7-bba0-2fe25ed5f0d5",
   "metadata": {},
   "source": [
    "# question 10\n"
   ]
  },
  {
   "cell_type": "code",
   "execution_count": 1,
   "id": "8a558af2-fa8a-431b-a3ec-e02314f4b34d",
   "metadata": {},
   "outputs": [],
   "source": [
    "import numpy as np\n",
    "import pandas as pd"
   ]
  },
  {
   "cell_type": "code",
   "execution_count": 3,
   "id": "08a656d5-cf61-4dd4-a574-394551ad4371",
   "metadata": {},
   "outputs": [
    {
     "name": "stdout",
     "output_type": "stream",
     "text": [
      "Simulated Data:\n",
      "         X1        X2        X3        X4        X5        X6        X7  \\\n",
      "0  0.496714 -0.138264  0.647689  1.523030 -0.234153 -0.234137  1.579213   \n",
      "1  1.465649 -0.225776  0.067528 -1.424748 -0.544383  0.110923 -1.150994   \n",
      "2  0.738467  0.171368 -0.115648 -0.301104 -1.478522 -0.719844 -0.460639   \n",
      "3 -0.479174 -0.185659 -1.106335 -1.196207  0.812526  1.356240 -0.072010   \n",
      "4 -0.219672  0.357113  1.477894 -0.518270 -0.808494 -0.501757  0.915402   \n",
      "\n",
      "         X8        X9       X10  ...       X12       X13       X14       X15  \\\n",
      "0  0.767435 -0.469474  0.542560  ... -0.465730  0.241962 -1.913280 -1.724918   \n",
      "1  0.375698 -0.600639 -0.291694  ...  1.852278 -0.013497 -1.057711  0.822545   \n",
      "2  1.057122  0.343618 -1.763040  ... -0.385082 -0.676922  0.611676  1.031000   \n",
      "3  1.003533  0.361636 -0.645120  ...  1.538037 -0.035826  1.564644 -2.619745   \n",
      "4  0.328751 -0.529760  0.513267  ...  0.968645 -0.702053 -0.327662 -0.392108   \n",
      "\n",
      "        X16       X17       X18       X19       X20          Y  \n",
      "0 -0.562288 -1.012831  0.314247 -0.908024 -1.412304 -18.900184  \n",
      "1 -1.220844  0.208864 -1.959670 -1.328186  0.196861  -3.455025  \n",
      "2  0.931280 -0.839218 -0.309212  0.331263  0.975545 -27.222046  \n",
      "3  0.821903  0.087047 -0.299007  0.091761 -1.987569   8.060507  \n",
      "4 -1.463515  0.296120  0.261055  0.005113 -0.234587 -13.898485  \n",
      "\n",
      "[5 rows x 21 columns]\n"
     ]
    }
   ],
   "source": [
    "#(b)\n",
    "\n",
    "# Set seed for reproducibility\n",
    "np.random.seed(42)\n",
    "\n",
    "# Step 1: Generate the predictor matrix X\n",
    "n = 1000  # Number of observations\n",
    "p = 20    # Number of features\n",
    "X = np.random.normal(size=(n, p))\n",
    "\n",
    "# Step 2: Generate the coefficient vector beta with some zeros\n",
    "beta = np.array([1, 2, 0, 0, 5, 0, 0, 0, 9, 0, 0, 0, 13, 0, 0, 0, 17, 0, 0, 0])\n",
    "\n",
    "# Step 3: Generate noise vector epsilon\n",
    "epsilon = np.random.normal(scale=1, size=n)  # Noise with standard deviation = 1\n",
    "\n",
    "# Step 4: Compute the response vector Y\n",
    "Y = X @ beta + epsilon\n",
    "\n",
    "# Create a DataFrame to hold the data\n",
    "data = pd.DataFrame(X, columns=[f\"X{i+1}\" for i in range(p)])\n",
    "data[\"Y\"] = Y\n",
    "\n",
    "# Display the first few rows\n",
    "print(\"Simulated Data:\")\n",
    "print(data.head())\n"
   ]
  },
  {
   "cell_type": "code",
   "execution_count": 4,
   "id": "03f6e617-6a6a-4e3e-8669-ba156113aa3f",
   "metadata": {},
   "outputs": [
    {
     "name": "stdout",
     "output_type": "stream",
     "text": [
      "Training set size: 100 observations\n",
      "Test set size: 900 observations\n"
     ]
    }
   ],
   "source": [
    "#(b)\n",
    "\n",
    "# Manually split the data\n",
    "X_train = X[:100, :]  # First 100 rows for training\n",
    "Y_train = Y[:100]     # Corresponding first 100 responses\n",
    "\n",
    "X_test = X[100:, :]   # Remaining 900 rows for testing\n",
    "Y_test = Y[100:]      # Corresponding remaining responses\n",
    "\n",
    "# Display the sizes of the training and test sets\n",
    "print(f\"Training set size: {X_train.shape[0]} observations\")\n",
    "print(f\"Test set size: {X_test.shape[0]} observations\")\n"
   ]
  },
  {
   "cell_type": "code",
   "execution_count": 5,
   "id": "309e4b49-20ce-4fe1-a272-b5b971f9cb1c",
   "metadata": {},
   "outputs": [
    {
     "data": {
      "image/png": "[encoded data removed]",
      "text/plain": [
       "<Figure size 800x600 with 1 Axes>"
      ]
     },
     "metadata": {},
     "output_type": "display_data"
    },
    {
     "name": "stdout",
     "output_type": "stream",
     "text": [
      "Best 1-predictor model: Predictors [16], Training MSE: 227.4819\n",
      "Best 2-predictor model: Predictors [12, 16], Training MSE: 88.5829\n",
      "Best 3-predictor model: Predictors [8, 12, 16], Training MSE: 26.0249\n",
      "Best 4-predictor model: Predictors [4, 8, 12, 16], Training MSE: 5.6634\n",
      "Best 5-predictor model: Predictors [1, 4, 8, 12, 16], Training MSE: 1.8789\n",
      "Best 6-predictor model: Predictors [0, 1, 4, 8, 12, 16], Training MSE: 1.1704\n",
      "Best 7-predictor model: Predictors [0, 1, 2, 4, 8, 12, 16], Training MSE: 1.1383\n",
      "Best 8-predictor model: Predictors [0, 1, 2, 4, 8, 10, 12, 16], Training MSE: 1.1230\n",
      "Best 9-predictor model: Predictors [0, 1, 2, 4, 8, 10, 12, 14, 16], Training MSE: 1.1113\n",
      "Best 10-predictor model: Predictors [0, 1, 2, 3, 4, 8, 10, 12, 14, 16], Training MSE: 1.1062\n",
      "Best 11-predictor model: Predictors [0, 1, 2, 3, 4, 8, 10, 11, 12, 14, 16], Training MSE: 1.1011\n",
      "Best 12-predictor model: Predictors [0, 1, 2, 3, 4, 6, 8, 10, 12, 14, 16, 19], Training MSE: 1.0985\n",
      "Best 13-predictor model: Predictors [0, 1, 2, 3, 4, 8, 10, 11, 12, 13, 14, 16, 17], Training MSE: 1.0954\n",
      "Best 14-predictor model: Predictors [0, 1, 2, 3, 4, 6, 8, 10, 11, 12, 13, 14, 16, 17], Training MSE: 1.0927\n",
      "Best 15-predictor model: Predictors [0, 1, 2, 3, 4, 6, 8, 10, 11, 12, 13, 14, 15, 16, 17], Training MSE: 1.0908\n",
      "Best 16-predictor model: Predictors [0, 1, 2, 3, 4, 6, 8, 10, 11, 12, 13, 14, 15, 16, 17, 19], Training MSE: 1.0884\n",
      "Best 17-predictor model: Predictors [0, 1, 2, 3, 4, 5, 6, 8, 10, 11, 12, 13, 14, 15, 16, 17, 19], Training MSE: 1.0865\n",
      "Best 18-predictor model: Predictors [0, 1, 2, 3, 4, 5, 6, 8, 9, 10, 11, 12, 13, 14, 15, 16, 17, 19], Training MSE: 1.0849\n",
      "Best 19-predictor model: Predictors [0, 1, 2, 3, 4, 5, 6, 8, 9, 10, 11, 12, 13, 14, 15, 16, 17, 18, 19], Training MSE: 1.0837\n",
      "Best 20-predictor model: Predictors [0, 1, 2, 3, 4, 5, 6, 7, 8, 9, 10, 11, 12, 13, 14, 15, 16, 17, 18, 19], Training MSE: 1.0831\n"
     ]
    }
   ],
   "source": [
    "#(c)\n",
    "\n",
    "import numpy as np\n",
    "import pandas as pd\n",
    "from itertools import combinations\n",
    "from sklearn.linear_model import LinearRegression\n",
    "from sklearn.metrics import mean_squared_error\n",
    "import matplotlib.pyplot as plt\n",
    "\n",
    "# Best Subset Selection Function\n",
    "def best_subset_selection(X_train, Y_train):\n",
    "    p = X_train.shape[1]  # Number of predictors\n",
    "    n = X_train.shape[0]  # Number of observations\n",
    "\n",
    "    # Initialize variables to store results\n",
    "    best_models = []\n",
    "    training_mse = []\n",
    "\n",
    "    # Loop over all subset sizes (1 to p predictors)\n",
    "    for k in range(1, p + 1):\n",
    "        best_mse = float(\"inf\")\n",
    "        best_model = None\n",
    "\n",
    "        # Generate all combinations of k predictors\n",
    "        for subset in combinations(range(p), k):\n",
    "            subset_indices = list(subset)\n",
    "\n",
    "            # Fit the model using the current subset of predictors\n",
    "            X_subset = X_train[:, subset_indices]\n",
    "            model = LinearRegression().fit(X_subset, Y_train)\n",
    "\n",
    "            # Predict on the training set\n",
    "            Y_pred = model.predict(X_subset)\n",
    "\n",
    "            # Calculate MSE\n",
    "            mse = mean_squared_error(Y_train, Y_pred)\n",
    "\n",
    "            # Store the best model for this subset size\n",
    "            if mse < best_mse:\n",
    "                best_mse = mse\n",
    "                best_model = subset_indices\n",
    "\n",
    "        # Store the results for this subset size\n",
    "        best_models.append(best_model)\n",
    "        training_mse.append(best_mse)\n",
    "\n",
    "    return best_models, training_mse\n",
    "\n",
    "# Perform Best Subset Selection on Training Set\n",
    "best_models, training_mse = best_subset_selection(X_train, Y_train)\n",
    "\n",
    "# Plot Training Set MSE\n",
    "plt.figure(figsize=(8, 6))\n",
    "plt.plot(range(1, len(training_mse) + 1), training_mse, marker='o')\n",
    "plt.title(\"Training Set MSE vs. Model Size\")\n",
    "plt.xlabel(\"Number of Predictors\")\n",
    "plt.ylabel(\"Training Set MSE\")\n",
    "plt.grid()\n",
    "plt.show()\n",
    "\n",
    "# Display the best models and their MSEs\n",
    "for i, (model, mse) in enumerate(zip(best_models, training_mse), 1):\n",
    "    print(f\"Best {i}-predictor model: Predictors {model}, Training MSE: {mse:.4f}\")\n"
   ]
  },
  {
   "cell_type": "code",
   "execution_count": 6,
   "id": "ad7173f3-1b3c-415c-865d-b1ff33bdf12a",
   "metadata": {},
   "outputs": [
    {
     "data": {
      "image/png": "[encoded data removed]",
      "text/plain": [
       "<Figure size 800x600 with 1 Axes>"
      ]
     },
     "metadata": {},
     "output_type": "display_data"
    },
    {
     "name": "stdout",
     "output_type": "stream",
     "text": [
      "Best 1-predictor model Test MSE: 281.2417\n",
      "Best 2-predictor model Test MSE: 116.9386\n",
      "Best 3-predictor model Test MSE: 33.7559\n",
      "Best 4-predictor model Test MSE: 6.1477\n",
      "Best 5-predictor model Test MSE: 2.2004\n",
      "Best 6-predictor model Test MSE: 1.0635\n",
      "Best 7-predictor model Test MSE: 1.0821\n",
      "Best 8-predictor model Test MSE: 1.1202\n",
      "Best 9-predictor model Test MSE: 1.1205\n",
      "Best 10-predictor model Test MSE: 1.1232\n",
      "Best 11-predictor model Test MSE: 1.1377\n",
      "Best 12-predictor model Test MSE: 1.1435\n",
      "Best 13-predictor model Test MSE: 1.1621\n",
      "Best 14-predictor model Test MSE: 1.1653\n",
      "Best 15-predictor model Test MSE: 1.1666\n",
      "Best 16-predictor model Test MSE: 1.1712\n",
      "Best 17-predictor model Test MSE: 1.1764\n",
      "Best 18-predictor model Test MSE: 1.1862\n",
      "Best 19-predictor model Test MSE: 1.2016\n",
      "Best 20-predictor model Test MSE: 1.1988\n"
     ]
    }
   ],
   "source": [
    "#(d)\n",
    "\n",
    "# Function to calculate Test Set MSE\n",
    "def calculate_test_mse(X_train, Y_train, X_test, Y_test, best_models):\n",
    "    test_mse = []\n",
    "\n",
    "    for subset_indices in best_models:\n",
    "        # Fit the model using the training data and current subset of predictors\n",
    "        X_subset_train = X_train[:, subset_indices]\n",
    "        X_subset_test = X_test[:, subset_indices]\n",
    "\n",
    "        model = LinearRegression().fit(X_subset_train, Y_train)\n",
    "\n",
    "        # Predict on the test set\n",
    "        Y_pred_test = model.predict(X_subset_test)\n",
    "\n",
    "        # Calculate MSE on the test set\n",
    "        mse = mean_squared_error(Y_test, Y_pred_test)\n",
    "        test_mse.append(mse)\n",
    "\n",
    "    return test_mse\n",
    "\n",
    "# Calculate Test Set MSE for Best Subset Models\n",
    "test_mse = calculate_test_mse(X_train, Y_train, X_test, Y_test, best_models)\n",
    "\n",
    "# Plot Test Set MSE\n",
    "plt.figure(figsize=(8, 6))\n",
    "plt.plot(range(1, len(test_mse) + 1), test_mse, marker='o', color='orange')\n",
    "plt.title(\"Test Set MSE vs. Model Size\")\n",
    "plt.xlabel(\"Number of Predictors\")\n",
    "plt.ylabel(\"Test Set MSE\")\n",
    "plt.grid()\n",
    "plt.show()\n",
    "\n",
    "# Display the test MSEs for each model size\n",
    "for i, mse in enumerate(test_mse, 1):\n",
    "    print(f\"Best {i}-predictor model Test MSE: {mse:.4f}\")\n"
   ]
  },
  {
   "cell_type": "code",
   "execution_count": 7,
   "id": "fd24c6a9-f3f6-449c-9b8f-88afbef59466",
   "metadata": {},
   "outputs": [
    {
     "name": "stdout",
     "output_type": "stream",
     "text": [
      "The minimum Test Set MSE is 1.0635, achieved by the model with 6 predictors.\n",
      "The minimum test MSE is achieved by an intermediate model size, indicating that subset selection effectively balances bias and variance.\n"
     ]
    }
   ],
   "source": [
    "#(e)\n",
    "\n",
    "# Find the model size with the minimum test MSE\n",
    "min_mse = min(test_mse)\n",
    "optimal_model_size = test_mse.index(min_mse) + 1  # +1 because index starts at 0\n",
    "\n",
    "print(f\"The minimum Test Set MSE is {min_mse:.4f}, achieved by the model with {optimal_model_size} predictors.\")\n",
    "\n",
    "# Comment on the results\n",
    "if optimal_model_size == 1:\n",
    "    print(\"The minimum test MSE is achieved by a model with only the intercept. This may indicate that most predictors are irrelevant.\")\n",
    "elif optimal_model_size == len(best_models):\n",
    "    print(\"The minimum test MSE is achieved by a model containing all features. This suggests that all predictors are relevant, or the noise is very low.\")\n",
    "else:\n",
    "    print(\"The minimum test MSE is achieved by an intermediate model size, indicating that subset selection effectively balances bias and variance.\")\n"
   ]
  },
  {
   "cell_type": "code",
   "execution_count": 8,
   "id": "6f75e3c6-6d15-4bff-a377-be0744df1306",
   "metadata": {},
   "outputs": [
    {
     "name": "stdout",
     "output_type": "stream",
     "text": [
      "Comparison of True and Estimated Coefficients:\n",
      "  Predictor  True Coefficient  Estimated Coefficient\n",
      "0        X1                 1               0.929404\n",
      "1        X2                 2               2.033041\n",
      "2        X5                 5               5.099294\n",
      "3        X9                 9               8.852306\n",
      "4       X13                13              12.927495\n",
      "5       X17                17              16.972639\n"
     ]
    }
   ],
   "source": [
    "#(f)\n",
    "\n",
    "# Extract the predictors from the best model minimizing test MSE\n",
    "optimal_size = optimal_model_size  # From part (e)\n",
    "best_predictors = best_models[optimal_size - 1]  # Subset for best model\n",
    "\n",
    "# Fit the best model to the training data\n",
    "X_train_best = X_train[:, best_predictors]\n",
    "model_best = LinearRegression().fit(X_train_best, Y_train)\n",
    "\n",
    "# Compare estimated coefficients to true coefficients\n",
    "estimated_coefficients = model_best.coef_\n",
    "true_coefficients = beta[best_predictors]\n",
    "\n",
    "# Display results\n",
    "comparison = pd.DataFrame({\n",
    "    \"Predictor\": [f\"X{i+1}\" for i in best_predictors],\n",
    "    \"True Coefficient\": true_coefficients,\n",
    "    \"Estimated Coefficient\": estimated_coefficients\n",
    "})\n",
    "\n",
    "print(\"Comparison of True and Estimated Coefficients:\")\n",
    "print(comparison)\n"
   ]
  },
  {
   "cell_type": "markdown",
   "id": "dfcbf4c4-3104-47fa-b7a1-64461c6ce003",
   "metadata": {},
   "source": []
  },
  {
   "cell_type": "code",
   "execution_count": 9,
   "id": "666a9078-fbe0-4c0c-a59f-222e56ee418f",
   "metadata": {},
   "outputs": [
    {
     "data": {
      "image/png": "[encoded data removed]",
      "text/plain": [
       "<Figure size 800x600 with 1 Axes>"
      ]
     },
     "metadata": {},
     "output_type": "display_data"
    },
    {
     "name": "stdout",
     "output_type": "stream",
     "text": [
      "Number of Predictors: 1, Squared Deviation: 280.4710\n",
      "Number of Predictors: 2, Squared Deviation: 112.6333\n",
      "Number of Predictors: 3, Squared Deviation: 30.6267\n",
      "Number of Predictors: 4, Squared Deviation: 5.0961\n",
      "Number of Predictors: 5, Squared Deviation: 1.0372\n",
      "Number of Predictors: 6, Squared Deviation: 0.0438\n",
      "Number of Predictors: 7, Squared Deviation: 0.0807\n",
      "Number of Predictors: 8, Squared Deviation: 0.1180\n",
      "Number of Predictors: 9, Squared Deviation: 0.1305\n",
      "Number of Predictors: 10, Squared Deviation: 0.1416\n",
      "Number of Predictors: 11, Squared Deviation: 0.1630\n",
      "Number of Predictors: 12, Squared Deviation: 0.1484\n",
      "Number of Predictors: 13, Squared Deviation: 0.1785\n",
      "Number of Predictors: 14, Squared Deviation: 0.1790\n",
      "Number of Predictors: 15, Squared Deviation: 0.1832\n",
      "Number of Predictors: 16, Squared Deviation: 0.1793\n",
      "Number of Predictors: 17, Squared Deviation: 0.1838\n",
      "Number of Predictors: 18, Squared Deviation: 0.1933\n",
      "Number of Predictors: 19, Squared Deviation: 0.2071\n",
      "Number of Predictors: 20, Squared Deviation: 0.2059\n"
     ]
    }
   ],
   "source": [
    "#(g)\n",
    "\n",
    "# Initialize a list to store squared deviations\n",
    "squared_deviations = []\n",
    "\n",
    "# Loop through each best model with r predictors\n",
    "for r, subset_indices in enumerate(best_models, start=1):\n",
    "    # Fit the model using the training data\n",
    "    X_train_best = X_train[:, subset_indices]\n",
    "    model = LinearRegression().fit(X_train_best, Y_train)\n",
    "\n",
    "    # Calculate estimated coefficients\n",
    "    estimated_coefficients = np.zeros(p)  # Initialize with zeros for all predictors\n",
    "    estimated_coefficients[subset_indices] = model.coef_\n",
    "\n",
    "    # Calculate the squared deviation\n",
    "    deviation = np.sum((beta - estimated_coefficients) ** 2)\n",
    "    squared_deviations.append(deviation)\n",
    "\n",
    "# Plot the squared deviations\n",
    "plt.figure(figsize=(8, 6))\n",
    "plt.plot(range(1, len(squared_deviations) + 1), squared_deviations, marker='o', color='green')\n",
    "plt.title(\"Squared Deviation vs. Number of Predictors\")\n",
    "plt.xlabel(\"Number of Predictors (r)\")\n",
    "plt.ylabel(\"Squared Deviation\")\n",
    "plt.grid()\n",
    "plt.show()\n",
    "\n",
    "# Display the squared deviations\n",
    "for r, deviation in enumerate(squared_deviations, start=1):\n",
    "    print(f\"Number of Predictors: {r}, Squared Deviation: {deviation:.4f}\")\n"
   ]
  },
  {
   "cell_type": "markdown",
   "id": "31d14caf-04d6-4171-8faf-6e20f0923cc4",
   "metadata": {},
   "source": [
    "# Question 11"
   ]
  },
  {
   "cell_type": "code",
   "execution_count": null,
   "id": "91a8c100-cb06-4795-bcb1-b3a582b56bc2",
   "metadata": {},
   "outputs": [],
   "source": []
  }
 ],
 "metadata": {
  "kernelspec": {
   "display_name": "Python 3 (ipykernel)",
   "language": "python",
   "name": "python3"
  },
  "language_info": {
   "codemirror_mode": {
    "name": "ipython",
    "version": 3
   },
   "file_extension": ".py",
   "mimetype": "text/x-python",
   "name": "python",
   "nbconvert_exporter": "python",
   "pygments_lexer": "ipython3",
   "version": "3.10.6"
  }
 },
 "nbformat": 4,
 "nbformat_minor": 5
}
