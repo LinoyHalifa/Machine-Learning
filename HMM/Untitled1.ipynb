{
 "cells": [
  {
   "cell_type": "code",
   "execution_count": 13,
   "id": "f08175e9-2211-426a-acc5-75eff24ff673",
   "metadata": {},
   "outputs": [
    {
     "name": "stdout",
     "output_type": "stream",
     "text": [
      "✅ Finished writing extended video!\n"
     ]
    }
   ],
   "source": [
    "import cv2\n",
    "\n",
    "# נתיב לקובץ המקורי\n",
    "input_path = \"Jump.mp4\"\n",
    "output_path = \"jumping.mp4\"\n",
    "repetitions = 3  \n",
    "\n",
    "# פותחים את הסרטון\n",
    "cap = cv2.VideoCapture(input_path)\n",
    "\n",
    "# פרטי הווידאו\n",
    "fps = int(cap.get(cv2.CAP_PROP_FPS))\n",
    "width  = int(cap.get(cv2.CAP_PROP_FRAME_WIDTH))\n",
    "height = int(cap.get(cv2.CAP_PROP_FRAME_HEIGHT))\n",
    "fourcc = cv2.VideoWriter_fourcc(*'mp4v')\n",
    "\n",
    "# יוצרים קובץ חדש\n",
    "out = cv2.VideoWriter(output_path, fourcc, fps, (width, height))\n",
    "\n",
    "# קוראים את כל הפריימים לתוך רשימה\n",
    "frames = []\n",
    "while True:\n",
    "    ret, frame = cap.read()\n",
    "    if not ret:\n",
    "        break\n",
    "    frames.append(frame)\n",
    "\n",
    "cap.release()\n",
    "\n",
    "# כותבים את כל הפריימים כמה פעמים שרוצים\n",
    "for _ in range(repetitions):\n",
    "    for frame in frames:\n",
    "        out.write(frame)\n",
    "\n",
    "out.release()\n",
    "print(\"✅ Finished writing extended video!\")\n"
   ]
  },
  {
   "cell_type": "code",
   "execution_count": null,
   "id": "b819f5ca-453c-4a95-8f48-06b87c1592a7",
   "metadata": {},
   "outputs": [],
   "source": []
  }
 ],
 "metadata": {
  "kernelspec": {
   "display_name": "Python 3 (ipykernel)",
   "language": "python",
   "name": "python3"
  },
  "language_info": {
   "codemirror_mode": {
    "name": "ipython",
    "version": 3
   },
   "file_extension": ".py",
   "mimetype": "text/x-python",
   "name": "python",
   "nbconvert_exporter": "python",
   "pygments_lexer": "ipython3",
   "version": "3.10.6"
  }
 },
 "nbformat": 4,
 "nbformat_minor": 5
}
