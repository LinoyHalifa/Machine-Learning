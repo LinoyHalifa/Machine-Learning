{
 "cells": [
  {
   "cell_type": "code",
   "execution_count": 1,
   "id": "0af4e21a-caf8-441b-8d26-45e336db0b10",
   "metadata": {},
   "outputs": [
    {
     "name": "stdout",
     "output_type": "stream",
     "text": [
      "Requirement already satisfied: sounddevice in c:\\users\\linoyh\\appdata\\local\\anaconda3\\envs\\datascience\\lib\\site-packages (0.5.1)\n",
      "Requirement already satisfied: CFFI>=1.0 in c:\\users\\linoyh\\appdata\\local\\anaconda3\\envs\\datascience\\lib\\site-packages (from sounddevice) (1.17.1)\n",
      "Requirement already satisfied: pycparser in c:\\users\\linoyh\\appdata\\local\\anaconda3\\envs\\datascience\\lib\\site-packages (from CFFI>=1.0->sounddevice) (2.21)\n",
      "Note: you may need to restart the kernel to use updated packages.\n"
     ]
    }
   ],
   "source": [
    "pip install sounddevice\n"
   ]
  },
  {
   "cell_type": "code",
   "execution_count": 3,
   "id": "c5b33969-cb7b-43e3-b1cc-b5ea5d20ffdd",
   "metadata": {},
   "outputs": [],
   "source": [
    "import numpy as np\n",
    "import sounddevice as sd\n",
    "\n",
    "fs = 44100\n",
    "duration = 1.0\n",
    "freq = 440  # תדר לדוגמה (A)\n",
    "\n",
    "t = np.linspace(0, duration, int(fs * duration), endpoint=False)\n",
    "wave = 0.5 * np.sin(2 * np.pi * freq * t)\n",
    "\n",
    "sd.play(wave, fs)\n",
    "sd.wait()\n"
   ]
  },
  {
   "cell_type": "code",
   "execution_count": null,
   "id": "afda3a8c-541d-4453-9c52-e0d483d76d1e",
   "metadata": {},
   "outputs": [],
   "source": [
    "# Small Neural Network with Overfitting + Bayesian Regression Comparison\n",
    "\n",
    "import numpy as np\n",
    "import matplotlib.pyplot as plt\n",
    "import torch\n",
    "import torch.nn as nn\n",
    "import torch.optim as optim\n",
    "\n",
    "# ----- DATA SETUP -----\n",
    "# Training data (same as Bayesian model)\n",
    "X = np.array([1.0, 2.0, 3.0])\n",
    "Y = np.array([300.0, 400.0, 500.0])\n",
    "\n",
    "# Test inputs for prediction\n",
    "x_test = np.linspace(0.0, 4.0, 100).reshape(-1, 1)\n",
    "\n",
    "# Convert to PyTorch tensors\n",
    "X_tensor = torch.tensor(X.reshape(-1, 1), dtype=torch.float32)\n",
    "Y_tensor = torch.tensor(Y.reshape(-1, 1), dtype=torch.float32)\n",
    "x_test_tensor = torch.tensor(x_test, dtype=torch.float32)\n",
    "\n",
    "# ----- NEURAL NETWORK -----\n",
    "model = nn.Sequential(\n",
    "    nn.Linear(1, 50),\n",
    "    nn.Tanh(),\n",
    "    nn.Linear(50, 50),\n",
    "    nn.Tanh(),\n",
    "    nn.Linear(50, 1)\n",
    ")\n",
    "\n",
    "loss_fn = nn.MSELoss()\n",
    "optimizer = optim.Adam(model.parameters(), lr=0.01)\n",
    "\n",
    "# Train neural network\n",
    "num_epochs = 1000\n",
    "losses = []\n",
    "for epoch in range(num_epochs):\n",
    "    model.train()\n",
    "    y_pred = model(X_tensor)\n",
    "    loss = loss_fn(y_pred, Y_tensor)\n",
    "    losses.append(loss.item())\n",
    "\n",
    "    optimizer.zero_grad()\n",
    "    loss.backward()\n",
    "    optimizer.step()\n",
    "\n",
    "# Predict with neural network\n",
    "model.eval()\n",
    "y_test_pred_nn = model(x_test_tensor).detach().numpy()\n",
    "\n",
    "# ----- BAYESIAN REGRESSION -----\n",
    "# Feature function: [1, x] for each input\n",
    "def phi(x):\n",
    "    return np.array([1.0, x])\n",
    "\n",
    "# Build design matrix Phi\n",
    "Phi = np.vstack([phi(x) for x in X]).T  # shape: (2, N)\n",
    "\n",
    "# Prior parameters\n",
    "mu_prior = np.zeros(2)\n",
    "Sigma_prior = np.eye(2)\n",
    "sigma2 = 25.0  # observation noise variance\n",
    "\n",
    "# Posterior computation\n",
    "precision_post = np.linalg.inv(Sigma_prior) + (1 / sigma2) * (Phi @ Phi.T)\n",
    "Sigma_post = np.linalg.inv(precision_post)\n",
    "mu_post = Sigma_post @ ((1 / sigma2) * Phi @ Y)\n",
    "\n",
    "# Predictive mean for each test point\n",
    "phi_test = np.vstack([phi(x[0]) for x in x_test])  # shape: (N_test, 2)\n",
    "mu_fx = phi_test @ mu_post\n",
    "\n",
    "# ----- PLOT -----\n",
    "plt.figure(figsize=(10, 5))\n",
    "plt.plot(x_test, y_test_pred_nn, label=\"Neural Network Prediction\", color='r')\n",
    "plt.plot(x_test, mu_fx, label=\"Bayesian Prediction\", color='g')\n",
    "plt.scatter(X, Y, color='blue', label=\"Training Data\", zorder=5)\n",
    "plt.title(\"Neural Network (Overfitting) vs Bayesian Regression\")\n",
    "plt.xlabel(\"Input X\")\n",
    "plt.ylabel(\"Output Y (Frequency)\")\n",
    "plt.legend()\n",
    "plt.grid(True)\n",
    "plt.show()\n"
   ]
  },
  {
   "cell_type": "code",
   "execution_count": null,
   "id": "94017233-0870-4a3a-979f-47bbaad54ea9",
   "metadata": {},
   "outputs": [],
   "source": []
  }
 ],
 "metadata": {
  "kernelspec": {
   "display_name": "Python 3 (ipykernel)",
   "language": "python",
   "name": "python3"
  },
  "language_info": {
   "codemirror_mode": {
    "name": "ipython",
    "version": 3
   },
   "file_extension": ".py",
   "mimetype": "text/x-python",
   "name": "python",
   "nbconvert_exporter": "python",
   "pygments_lexer": "ipython3",
   "version": "3.10.6"
  }
 },
 "nbformat": 4,
 "nbformat_minor": 5
}
